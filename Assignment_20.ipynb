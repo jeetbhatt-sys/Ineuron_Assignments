{
 "cells": [
  {
   "cell_type": "markdown",
   "metadata": {},
   "source": [
    "1. Set the variable test1 to the string 'This is a test of the emergency text system,' and save test1 to a file named test.txt."
   ]
  },
  {
   "cell_type": "code",
   "execution_count": 1,
   "metadata": {},
   "outputs": [],
   "source": [
    "test1 = 'This is a test of the emergency text system'\n",
    "f = open('test.txt','w')\n",
    "f.write(test1)\n",
    "f.close()"
   ]
  },
  {
   "cell_type": "markdown",
   "metadata": {},
   "source": [
    "2. Read the contents of the file test.txt into the variable test2. Is there a difference between test 1 and test 2?"
   ]
  },
  {
   "cell_type": "code",
   "execution_count": 2,
   "metadata": {},
   "outputs": [
    {
     "name": "stdout",
     "output_type": "stream",
     "text": [
      "This is a test of the emergency text system\n"
     ]
    }
   ],
   "source": [
    "f = open('test.txt','r')\n",
    "test2 = f.read()\n",
    "print(test2)\n",
    "#There is no diffrence between test1 and test2"
   ]
  },
  {
   "cell_type": "markdown",
   "metadata": {},
   "source": [
    "3. Create a CSV file called books.csv by using these lines:\n",
    "title,author,year\n",
    "The Weirdstone of Brisingamen,Alan Garner,1960\n",
    "Perdido Street Station,China Miéville,2000\n",
    "Thud!,Terry Pratchett,2005\n",
    "The Spellman Files,Lisa Lutz,2007\n",
    "Small Gods,Terry Pratchett,1992\n"
   ]
  },
  {
   "cell_type": "code",
   "execution_count": 3,
   "metadata": {},
   "outputs": [],
   "source": [
    "import csv\n",
    "fields = ['title', 'author', 'Year']\n",
    "rows = [ ['The Weirdstone of Brisingamen', 'Alan Garner', 1960], \n",
    "         ['Perdido Street Station', 'China Miéville', 2000], \n",
    "         ['Thud!', 'Terry Pratchett', 2005], \n",
    "         ['The Spellman Files', 'Lisa Lutz', 2007],\n",
    "         ['Small Gods','Terry pratchett',1992]]\n",
    "\n",
    "with open('books.csv', 'w') as csvfile:\n",
    "    csvwriter = csv.writer(csvfile) \n",
    "    csvwriter.writerow(fields)\n",
    "    csvwriter.writerows(rows)"
   ]
  },
  {
   "cell_type": "markdown",
   "metadata": {},
   "source": [
    "4. Use the sqlite3 module to create a SQLite database called books.db, and a table called books with these fields: title (text), author (text), and year (integer)."
   ]
  },
  {
   "cell_type": "code",
   "execution_count": 1,
   "metadata": {},
   "outputs": [],
   "source": [
    "import sqlite3\n",
    "connection = sqlite3.connect('books.db')\n",
    "connection.execute('''CREATE TABLE book\n",
    "         (title TEXT  PRIMARY KEY    NOT NULL,\n",
    "         author            TEXT     NOT NULL,\n",
    "         year        INT);''')\n",
    "connection.close()"
   ]
  },
  {
   "cell_type": "markdown",
   "metadata": {},
   "source": [
    "5. Read books.csv and insert its data into the book table."
   ]
  },
  {
   "cell_type": "raw",
   "metadata": {},
   "source": [
    "import sqlite3\n",
    "import csv\n",
    "connection = sqlite3.connect('book.db')\n",
    "with open('books.csv', 'r') as csvfile:\n",
    "    csvreader = csv.reader(csvfile)\n",
    "    next(csvreader)\n",
    "    insert_str ='INSERT INTO book VALUES(?,?,?)'\n",
    "    for row in csvreader:\n",
    "        data = ', '.join(row)\n",
    "        if row != []:\n",
    "            connection.execute(insert_str,(row[0],row[1],row[2]))\n",
    "            connection.commit()\n",
    "connection.close()"
   ]
  },
  {
   "cell_type": "markdown",
   "metadata": {},
   "source": [
    "6. Select and print the title column from the book table in alphabetical order."
   ]
  },
  {
   "cell_type": "code",
   "execution_count": 11,
   "metadata": {},
   "outputs": [
    {
     "name": "stdout",
     "output_type": "stream",
     "text": [
      "title =  Perdido Street Station\n",
      "title =  Small Gods\n",
      "title =  The Spellman Files\n",
      "title =  The Weirdstone of Brisingamen\n",
      "title =  Thud!\n"
     ]
    }
   ],
   "source": [
    "import sqlite3\n",
    "connection = sqlite3.connect('books.db')\n",
    "cursor = connection.execute(\"SELECT title from books ORDER BY title\")\n",
    "for row in cursor:\n",
    "   print(\"title = \", row[0])\n",
    "connection.close()"
   ]
  },
  {
   "cell_type": "markdown",
   "metadata": {},
   "source": [
    "7. From the book table, select and print all columns in the order of publication."
   ]
  },
  {
   "cell_type": "code",
   "execution_count": 14,
   "metadata": {},
   "outputs": [
    {
     "name": "stdout",
     "output_type": "stream",
     "text": [
      "title : The Weirdstone of Brisingamen\n",
      "Author : Alan Garner\n",
      "Year : 1960 \n",
      "\n",
      "title : Small Gods\n",
      "Author : Terry pratchett\n",
      "Year : 1992 \n",
      "\n",
      "title : Perdido Street Station\n",
      "Author : China Miéville\n",
      "Year : 2000 \n",
      "\n",
      "title : Thud!\n",
      "Author : Terry Pratchett\n",
      "Year : 2005 \n",
      "\n",
      "title : The Spellman Files\n",
      "Author : Lisa Lutz\n",
      "Year : 2007 \n",
      "\n"
     ]
    }
   ],
   "source": [
    "import sqlite3\n",
    "connection = sqlite3.connect('books.db')\n",
    "cursor = connection.execute(\"SELECT * from books ORDER BY year\")\n",
    "for row in cursor:\n",
    "   print(\"title :\", row[0])\n",
    "   print(\"Author :\",row[1])\n",
    "   print(\"Year :\", row[2], \"\\n\")\n",
    "connection.close()"
   ]
  },
  {
   "cell_type": "markdown",
   "metadata": {},
   "source": [
    "8. Use the sqlalchemy module to connect to the sqlite3 database books.db that you just made in exercise 6."
   ]
  },
  {
   "cell_type": "code",
   "execution_count": null,
   "metadata": {},
   "outputs": [],
   "source": [
    "from flask import Flask\n",
    "from flask_sqlalchemy import SQLAlchemy\n",
    "app = Flask(__name__)\n",
    "app.config['SQLALCHEMY_DATABASE_URI'] = 'BOOKS.db'"
   ]
  },
  {
   "cell_type": "markdown",
   "metadata": {},
   "source": [
    "9. Install the Redis server and the Python redis library (pip install redis) on your computer. Create a Redis hash called test with the fields count (1) and name ('Fester Bestertester'). Print all the fields for test."
   ]
  },
  {
   "cell_type": "code",
   "execution_count": null,
   "metadata": {},
   "outputs": [],
   "source": [
    "Not Covered "
   ]
  },
  {
   "cell_type": "markdown",
   "metadata": {},
   "source": [
    "10. Increment the count field of test and print it."
   ]
  },
  {
   "cell_type": "code",
   "execution_count": null,
   "metadata": {},
   "outputs": [],
   "source": [
    "Not Covered "
   ]
  }
 ],
 "metadata": {
  "kernelspec": {
   "display_name": "Python 3",
   "language": "python",
   "name": "python3"
  },
  "language_info": {
   "codemirror_mode": {
    "name": "ipython",
    "version": 3
   },
   "file_extension": ".py",
   "mimetype": "text/x-python",
   "name": "python",
   "nbconvert_exporter": "python",
   "pygments_lexer": "ipython3",
   "version": "3.8.3"
  }
 },
 "nbformat": 4,
 "nbformat_minor": 4
}
